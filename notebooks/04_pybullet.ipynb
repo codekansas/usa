{
 "cells": [
  {
   "cell_type": "markdown",
   "id": "f7d398fd",
   "metadata": {},
   "source": [
    "# PyBullet demo\n",
    "\n",
    "This notebook demonstrates how to train a USA model on a PyBullet environment. The environment is taken from [here](https://github.com/adubredu/pybullet_kitchen).\n",
    "\n",
    "To get started, first make sure to install some dependencies:\n",
    "\n",
    "```bash\n",
    "pip install pybullet scikit-learn scipy\n",
    "```"
   ]
  },
  {
   "cell_type": "code",
   "execution_count": null,
   "id": "71396432",
   "metadata": {
    "vscode": {
     "languageId": "python"
    }
   },
   "outputs": [],
   "source": [
    "import pybullet as pb\n",
    "import numpy as np\n",
    "import imageio\n",
    "from typing import Iterator\n",
    "from torch import Tensor\n",
    "from pathlib import Path\n",
    "import zipfile\n",
    "import requests\n",
    "from IPython.display import Image"
   ]
  },
  {
   "attachments": {},
   "cell_type": "markdown",
   "id": "a4ba4043",
   "metadata": {},
   "source": [
    "The code below downloads the environment data and adds it to PyBullet."
   ]
  },
  {
   "cell_type": "code",
   "execution_count": null,
   "id": "21b13bbd",
   "metadata": {
    "vscode": {
     "languageId": "python"
    }
   },
   "outputs": [],
   "source": [
    "# Downloads the dataset, if it is not already downloaded.\n",
    "if not Path(\"04_pybullet_data\").exists():\n",
    "    r = requests.get(\"https://github.com/codekansas/usa/releases/download/v0.0.2/04_pybullet_data.zip\", allow_redirects=True)\n",
    "    with open(\"04_pybullet_data.zip\", \"wb\") as f:\n",
    "        f.write(r.content)\n",
    "    with zipfile.ZipFile(\"04_pybullet_data.zip\", \"r\") as zip_ref:\n",
    "        zip_ref.extractall(\".\")\n",
    "\n",
    "# Loads the URDFs into PyBullet.\n",
    "pb.setAdditionalSearchPath(\"04_pybullet_data\")\n",
    "kitchen_path = \"kitchen_part_right_gen_convex.urdf\"\n",
    "use_fixed_base = True\n",
    "pb.setGravity(0, 0, -9.81)\n",
    "\n",
    "floor = pb.loadURDF(\n",
    "    \"floor.urdf\",\n",
    "    useFixedBase=use_fixed_base,\n",
    ")\n",
    "\n",
    "kitchen = pb.loadURDF(\n",
    "    \"kitchen_part_right_gen_convex.urdf\",\n",
    "    (-5, 0, 1.477),\n",
    "    useFixedBase=use_fixed_base,\n",
    ")\n",
    "\n",
    "table = pb.loadURDF(\n",
    "    \"table.urdf\",\n",
    "    (1.0, 0, 0),\n",
    "    pb.getQuaternionFromEuler((0, 0, 1.57)),\n",
    "    useFixedBase=use_fixed_base,\n",
    ")"
   ]
  },
  {
   "cell_type": "code",
   "execution_count": null,
   "id": "24577dbf",
   "metadata": {
    "vscode": {
     "languageId": "python"
    }
   },
   "outputs": [],
   "source": [
    "def capture_frame(\n",
    "    camera_xyz: tuple[float, float, float] = (-5.0, 0.0, 1.477),\n",
    "    camera_ypr: tuple[float, float] = (90.0, -10.0, 0.0),\n",
    "    camera_distance: float = 3.0,\n",
    "    camera_planes: tuple[float, float] = (0.01, 100.0),\n",
    "    pixel_dims: tuple[int, int] = (500, 300),\n",
    "    camera_fov: float = 60.0,\n",
    ") -> tuple[np.ndarray, np.ndarray]:\n",
    "    \"\"\"Captures a single frame, returning RGB and depth information.\n",
    "\n",
    "    Args:\n",
    "        camera_xyz: The XYZ coordinates of the camera\n",
    "        camera_ypr: The yaw, pitch and roll of the camera\n",
    "        cam_distance: Not sure\n",
    "        camera_planes: The minimum and maximum rendering distances\n",
    "        pixel_dims: The shape of the output image, as (W, H)\n",
    "        camera_fov: The camera field of view\n",
    "    \"\"\"\n",
    "\n",
    "    yaw, pitch, roll = camera_ypr\n",
    "    near_plane, far_plane = camera_planes\n",
    "    pixel_width, pixel_height = pixel_dims\n",
    "\n",
    "    # Computes the view and projection matrices.\n",
    "    view_matrix = pb.computeViewMatrixFromYawPitchRoll(camera_xyz, camera_distance, yaw, pitch, roll, 2)\n",
    "    aspect = pixel_width / pixel_height\n",
    "    projection_matrix = pb.computeProjectionMatrixFOV(camera_fov, aspect, near_plane, far_plane)\n",
    "\n",
    "    print(view_matrix)\n",
    "    print(projection_matrix)\n",
    "\n",
    "    # Captures the camera image.\n",
    "    img_arr = pb.getCameraImage(pixel_width, pixel_height, view_matrix, projection_matrix)\n",
    "    img_width, img_height, rgb, depth, *_ = img_arr\n",
    "\n",
    "    # Reshapes arrays to expected output shape.\n",
    "    rgb_arr = np.reshape(rgb, (img_height, img_width, 4))[..., :3]\n",
    "    depth_arr = np.reshape(depth, (img_height, img_width))\n",
    "\n",
    "    return rgb_arr, depth_arr\n",
    "\n",
    "\n",
    "def capture_sim(steps_per_frame: int, total_steps: int) -> Iterator[tuple[np.ndarray, np.ndarray]]:\n",
    "    for i in range(total_steps):\n",
    "        pb.stepSimulation()\n",
    "        if i % steps_per_frame == 0:\n",
    "            yield capture_frame()\n",
    "\n",
    "\n",
    "def write_gif(frames: Iterator[np.ndarray | Tensor], out_file: str | Path, *, fps: int = 30) -> None:\n",
    "    writer = imageio.get_writer(str(out_file), mode=\"I\", fps=fps)\n",
    "    for frame in frames:\n",
    "        if isinstance(frame, Tensor):\n",
    "            frame = frame.detach().cpu().numpy()\n",
    "        writer.append_data(frame)\n",
    "    writer.close()"
   ]
  },
  {
   "cell_type": "code",
   "execution_count": null,
   "id": "2fdc6746",
   "metadata": {
    "vscode": {
     "languageId": "python"
    }
   },
   "outputs": [],
   "source": [
    "class Kitchen:\n",
    "    def __init__(self):\n",
    "        pb.setAdditionalSearchPath(\"04_pybullet_data\")\n",
    "        kitchen_path = \"kitchen_part_right_gen_convex.urdf\"\n",
    "        useFixedBase = True\n",
    "        pb.setGravity(0, 0, -9.81)\n",
    "        self.floor = pb.loadURDF(\"floor.urdf\", useFixedBase=useFixedBase)\n",
    "        self.kitchen = pb.loadURDF(kitchen_path, [-5, 0, 1.477], useFixedBase=useFixedBase)\n",
    "        self.table = pb.loadURDF(\n",
    "            \"table.urdf\",\n",
    "            [1.0, 0, 0],\n",
    "            pb.getQuaternionFromEuler([0, 0, 1.57]),\n",
    "            useFixedBase=useFixedBase,\n",
    "        )"
   ]
  },
  {
   "cell_type": "code",
   "execution_count": null,
   "id": "55680631",
   "metadata": {
    "vscode": {
     "languageId": "python"
    }
   },
   "outputs": [],
   "source": [
    "pb.connect(pb.DIRECT)\n",
    "pb.resetSimulation()\n",
    "\n",
    "pb.setGravity(0, 0, -9.81)\n",
    "pb.setPhysicsEngineParameter(enableConeFriction=0)\n",
    "\n",
    "total_steps_per_control = 1000\n",
    "steps_per_frame = 100\n",
    "\n",
    "kitchen = Kitchen()\n",
    "\n",
    "def iter_frames() -> Iterator[np.ndarray]:\n",
    "    for i in range(10):\n",
    "        drawer_id = i + 1\n",
    "        kitchen.open_drawer(drawer_id)\n",
    "        yield from capture_sim(steps_per_frame, total_steps_per_control)\n",
    "\n",
    "    for i in range(10):\n",
    "        drawer_id = i + 1\n",
    "        kitchen.close_drawer(drawer_id)\n",
    "        yield from capture_sim(steps_per_frame, total_steps_per_control)\n",
    "\n",
    "write_gif(iter_frames(), \"video.gif\")\n",
    "Image(\"video.gif\")"
   ]
  }
 ],
 "metadata": {
  "kernelspec": {
   "display_name": "Python 3 (ipykernel)",
   "language": "python",
   "name": "python3"
  }
 },
 "nbformat": 4,
 "nbformat_minor": 5
}
