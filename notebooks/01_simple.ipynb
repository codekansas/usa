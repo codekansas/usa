{
 "cells": [
  {
   "cell_type": "markdown",
   "id": "bf363839",
   "metadata": {},
   "source": [
    "# Simple Example\n",
    "\n",
    "This example will show you how to:\n",
    "\n",
    "1. Train a model on one of the collected datasets\n",
    "2. Get and visualize paths from the trained model"
   ]
  },
  {
   "cell_type": "code",
   "execution_count": null,
   "id": "31770f0c",
   "metadata": {},
   "outputs": [],
   "source": [
    "print(\"Hello world?\")"
   ]
  }
 ],
 "metadata": {
  "kernelspec": {
   "display_name": "Python 3 (ipykernel)",
   "language": "python",
   "name": "python3"
  },
  "language_info": {
   "codemirror_mode": {
    "name": "ipython",
    "version": 3
   },
   "file_extension": ".py",
   "mimetype": "text/x-python",
   "name": "python",
   "nbconvert_exporter": "python",
   "pygments_lexer": "ipython3",
   "version": "3.10.10"
  }
 },
 "nbformat": 4,
 "nbformat_minor": 5
}
