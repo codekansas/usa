{
 "cells": [
  {
   "cell_type": "markdown",
   "id": "bf363839",
   "metadata": {},
   "source": [
    "# Training a model\n",
    "\n",
    "This notebook demonstrates how to train a model on a pre-collected dataset"
   ]
  },
  {
   "cell_type": "code",
   "execution_count": null,
   "id": "65e830d4",
   "metadata": {},
   "outputs": [],
   "source": [
    "import os\n",
    "\n",
    "# These environment variables control where\n",
    "# training and eval logs are written.\n",
    "os.environ[\"RUN_DIR\"] = \"runs\"\n",
    "os.environ[\"EVAL_RUN_DIR\"] = \"eval_runs\"\n",
    "\n",
    "# This is used to set a constant Tensorboard port.\n",
    "os.environ[\"TENSORBOARD_PORT\"] = str(8989)"
   ]
  },
  {
   "cell_type": "code",
   "execution_count": null,
   "id": "828ca596",
   "metadata": {},
   "outputs": [],
   "source": [
    "import ml.api as ml  # Source: https://github.com/codekansas/ml-starter\n",
    "\n",
    "# Imports these files to add them to the model and task registry.\n",
    "from usa.models.point2emb import Point2EmbModel\n",
    "from usa.tasks.clip_sdf import ClipSdfTask"
   ]
  },
  {
   "cell_type": "code",
   "execution_count": null,
   "id": "81dddc21",
   "metadata": {},
   "outputs": [],
   "source": [
    "# Enables logging to `stdout`.\n",
    "ml.configure_logging(use_tqdm=True)"
   ]
  },
  {
   "cell_type": "markdown",
   "id": "ea74232c",
   "metadata": {},
   "source": [
    "The framework used to train the models specifies six parts:\n",
    "\n",
    "1. Model: The USA net model follows the vanilla NeRF implementation, and uses a simple MLP mapping 3D points to an output vector\n",
    "2. Task: This is used to coordinate training by passing the dataset samples to the model and computing the loss function\n",
    "3. Optimizer\n",
    "4. Learning rate scheduler\n",
    "5. Trainer\n",
    "6. Loggers"
   ]
  },
  {
   "cell_type": "code",
   "execution_count": null,
   "id": "d7a9bdf8",
   "metadata": {},
   "outputs": [],
   "source": [
    "config = {\n",
    "    \"model\": {\n",
    "        \"name\": \"point2emb\",          # `register_model` name in `usa.models.point2emb`\n",
    "        \"num_layers\": 4,\n",
    "        \"hidden_dims\": 256,\n",
    "        \"output_dims\": 513,           # CLIP = 512, SDF = 1\n",
    "    },\n",
    "    \"task\": {\n",
    "        \"name\": \"clip_sdf\",           # `register_task` name in `usa.tasks.clip_sdf`\n",
    "        \"dataset\": \"lab_r3d\",         # Pre-collected dataset\n",
    "        \"clip_model\": \"ViT_B_16\",\n",
    "        \"queries\": [\n",
    "            \"Chair\",\n",
    "            \"Shelves\",\n",
    "            \"Man sitting at a computer\",\n",
    "            \"Desktop computers\",\n",
    "            \"Wooden box\",\n",
    "            \"Doorway\",\n",
    "        ],\n",
    "        \"rotate_image\": True,         # Dataset-specific, for visualization purposes\n",
    "        \"finished\": {\n",
    "            \"max_steps\": 10_000,      # Number of training steps\n",
    "        },\n",
    "        \"dataloader\": {\n",
    "            \"train\": {\n",
    "                \"batch_size\": 16,\n",
    "                \"num_workers\": 0,\n",
    "                \"persistent_workers\": False,\n",
    "            },\n",
    "        },\n",
    "    },\n",
    "    \"optimizer\": {\n",
    "        \"name\": \"adam\",\n",
    "        \"lr\": 3e-4,\n",
    "    },\n",
    "    \"lr_scheduler\": {\n",
    "        \"name\": \"linear\",\n",
    "    },\n",
    "    \"trainer\": {\n",
    "        \"name\": \"vanilla_sl\",\n",
    "        \"exp_name\": \"jupyter\",\n",
    "        \"log_dir_name\": \"test\",\n",
    "        \"base_run_dir\": \"runs\",\n",
    "        \"run_id\": 0,\n",
    "        \"checkpoint\": {\n",
    "            \"save_every_n_steps\": 2500,\n",
    "            \"only_save_most_recent\": True,\n",
    "        },\n",
    "        \"validation\": {\n",
    "            \"valid_every_n_steps\": 250,\n",
    "            \"num_init_valid_steps\": 1,\n",
    "        },\n",
    "    },\n",
    "    \"logger\": [{\"name\": \"tensorboard\"}],\n",
    "}"
   ]
  },
  {
   "cell_type": "code",
   "execution_count": null,
   "id": "e79ef36d",
   "metadata": {},
   "outputs": [],
   "source": [
    "objs = ml.instantiate_config(config)\n",
    "\n",
    "# Unpacking the different components.\n",
    "model = objs.model\n",
    "task = objs.task\n",
    "optimizer = objs.optimizer\n",
    "lr_scheduler = objs.lr_scheduler\n",
    "trainer = objs.trainer"
   ]
  },
  {
   "cell_type": "code",
   "execution_count": null,
   "id": "dd7cd819",
   "metadata": {},
   "outputs": [],
   "source": [
    "from tensorboard import notebook\n",
    "\n",
    "# Show Tensorboard inside the notebook.\n",
    "notebook.display(port=int(os.environ['TENSORBOARD_PORT']))\n",
    "\n",
    "# Runs the training loop.\n",
    "trainer.train(model, task, optimizer, lr_scheduler)"
   ]
  }
 ],
 "metadata": {
  "kernelspec": {
   "display_name": "Python 3 (ipykernel)",
   "language": "python",
   "name": "python3"
  },
  "language_info": {
   "codemirror_mode": {
    "name": "ipython",
    "version": 3
   },
   "file_extension": ".py",
   "mimetype": "text/x-python",
   "name": "python",
   "nbconvert_exporter": "python",
   "pygments_lexer": "ipython3",
   "version": "3.10.10"
  }
 },
 "nbformat": 4,
 "nbformat_minor": 5
}
