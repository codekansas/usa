{
 "cells": [
  {
   "cell_type": "markdown",
   "id": "bf363839",
   "metadata": {},
   "source": [
    "# Training a model\n",
    "\n",
    "This script demonstrates how to train a model on a pre-collected dataset."
   ]
  },
  {
   "cell_type": "code",
   "execution_count": 6,
   "id": "828ca596",
   "metadata": {},
   "outputs": [],
   "source": [
    "from pathlib import Path\n",
    "\n",
    "import ml.api as ml  # Source: https://github.com/codekansas/ml-starter\n",
    "\n",
    "from usa.models.point2emb import Point2EmbModel, Point2EmbModelConfig\n",
    "from usa.tasks.clip_sdf import ClipSdfTask, ClipSdfTaskConfig"
   ]
  },
  {
   "cell_type": "markdown",
   "id": "ea74232c",
   "metadata": {},
   "source": [
    "The framework used to train the models specifies five parts:\n",
    "\n",
    "1. Model: The USA net model follows the vanilla NeRF implementation, and uses a simple MLP mapping 3D points to an output vector\n",
    "2. Task: This is used to coordinate training by passing the dataset samples to the model and computing the loss function\n",
    "3. Optimizer\n",
    "4. Learning rate scheduler\n",
    "5. Trainer: This "
   ]
  },
  {
   "cell_type": "code",
   "execution_count": 2,
   "id": "d7a9bdf8",
   "metadata": {},
   "outputs": [],
   "source": [
    "config = {\n",
    "    \"model\": {\n",
    "        \"name\": \"point2emb\",          # `register_model` name in `usa.models.point2emb`\n",
    "        \"num_layers\": 4,\n",
    "        \"hidden_dims\": 256,\n",
    "        \"output_dims\": 513,           # CLIP = 512, SDF = 1\n",
    "    },\n",
    "    \"task\": {\n",
    "        \"name\": \"clip_sdf\",           # `register_task` name in `usa.tasks.clip_sdf`\n",
    "        \"dataset\": \"lab_r3d\",         # Pre-collected dataset\n",
    "        \"clip_model\": \"ViT_B_16\",\n",
    "        \"queries\": [\n",
    "            \"Chair\",\n",
    "            \"Shelves\",\n",
    "            \"Man sitting at a computer\",\n",
    "            \"Desktop computers\",\n",
    "            \"Wooden box\",\n",
    "            \"Doorway\",\n",
    "        ],\n",
    "        \"rotate_image\": True,         # Dataset-specific, for visualization purposes\n",
    "        \"finished\": {\n",
    "            \"max_steps\": 10_000,      # Number of training steps\n",
    "        },\n",
    "        \"dataloader\": {\n",
    "            \"train\": {\n",
    "                \"batch_size\": 16,\n",
    "                \"num_workers\": 0,\n",
    "                \"persistent_workers\": False,\n",
    "            },\n",
    "        },\n",
    "    },\n",
    "    \"optimizer\": {\n",
    "        \"name\": \"adam\",\n",
    "        \"lr\": 3e-4,\n",
    "    },\n",
    "    \"lr_scheduler\": {\n",
    "        \"name\": \"linear\",\n",
    "    },\n",
    "    \"trainer\": {\n",
    "        \"name\": \"vanilla_sl\",\n",
    "        \"exp_name\": \"jupyter\",\n",
    "        \"log_dir_name\": \"test\",\n",
    "        \"base_run_dir\": \"runs\",\n",
    "        \"run_id\": 0,\n",
    "        \"checkpoint\": {\n",
    "            \"save_every_n_steps\": 2500,\n",
    "            \"only_save_most_recent\": True,\n",
    "        },\n",
    "        \"validation\": {\n",
    "            \"valid_every_n_steps\": 250,\n",
    "            \"num_init_valid_steps\": 1,\n",
    "        },\n",
    "    },\n",
    "}"
   ]
  },
  {
   "cell_type": "code",
   "execution_count": 3,
   "id": "e79ef36d",
   "metadata": {},
   "outputs": [
    {
     "name": "stderr",
     "output_type": "stream",
     "text": [
      "Finished loading pretrained CLIP model in 2.04 seconds\n",
      "Finished building clip_sdf from '/private/home/bbolte/Github/usa-net/usa/tasks/clip_sdf.py' in 2.14 seconds\n"
     ]
    }
   ],
   "source": [
    "objs = ml.instantiate_config(config)\n",
    "\n",
    "# Unpacking the different components.\n",
    "model = objs.model\n",
    "task = objs.task\n",
    "optimizer = objs.optimizer\n",
    "lr_scheduler = objs.lr_scheduler\n",
    "trainer = objs.trainer"
   ]
  },
  {
   "cell_type": "code",
   "execution_count": 8,
   "id": "dd7cd819",
   "metadata": {},
   "outputs": [
    {
     "ename": "FileNotFoundError",
     "evalue": "[Errno 2] No such file or directory: '/private/home/bbolte/Github/usa-net/notebooks/runs/jupyter/run_0/.lock_running'",
     "output_type": "error",
     "traceback": [
      "\u001b[0;31m---------------------------------------------------------------------------\u001b[0m",
      "\u001b[0;31mFileNotFoundError\u001b[0m                         Traceback (most recent call last)",
      "Cell \u001b[0;32mIn[8], line 3\u001b[0m\n\u001b[1;32m      1\u001b[0m \u001b[38;5;66;03m# Runs the training loop.\u001b[39;00m\n\u001b[1;32m      2\u001b[0m Path(\u001b[38;5;124m\"\u001b[39m\u001b[38;5;124mruns/jupyter\u001b[39m\u001b[38;5;124m\"\u001b[39m)\u001b[38;5;241m.\u001b[39mmkdir(exist_ok\u001b[38;5;241m=\u001b[39m\u001b[38;5;28;01mTrue\u001b[39;00m, parents\u001b[38;5;241m=\u001b[39m\u001b[38;5;28;01mTrue\u001b[39;00m)\n\u001b[0;32m----> 3\u001b[0m \u001b[43mtrainer\u001b[49m\u001b[38;5;241;43m.\u001b[39;49m\u001b[43mtrain\u001b[49m\u001b[43m(\u001b[49m\u001b[43mmodel\u001b[49m\u001b[43m,\u001b[49m\u001b[43m \u001b[49m\u001b[43mtask\u001b[49m\u001b[43m,\u001b[49m\u001b[43m \u001b[49m\u001b[43moptimizer\u001b[49m\u001b[43m,\u001b[49m\u001b[43m \u001b[49m\u001b[43mlr_scheduler\u001b[49m\u001b[43m)\u001b[49m\n",
      "File \u001b[0;32m~/.conda/envs/usa-net/lib/python3.10/site-packages/ml/trainers/sl.py:72\u001b[0m, in \u001b[0;36mSupervisedLearningVanillaTrainer.train\u001b[0;34m(self, model, task, optimizer, lr_scheduler)\u001b[0m\n\u001b[1;32m     69\u001b[0m \u001b[38;5;28;01mif\u001b[39;00m \u001b[38;5;129;01mnot\u001b[39;00m \u001b[38;5;28misinstance\u001b[39m(task, SupervisedLearningTask):\n\u001b[1;32m     70\u001b[0m     \u001b[38;5;28;01mraise\u001b[39;00m \u001b[38;5;167;01mValueError\u001b[39;00m(\u001b[38;5;124mf\u001b[39m\u001b[38;5;124m\"\u001b[39m\u001b[38;5;124mExpected task to be a SupervisedLearningTask, got \u001b[39m\u001b[38;5;132;01m{\u001b[39;00m\u001b[38;5;28mtype\u001b[39m(task)\u001b[38;5;132;01m}\u001b[39;00m\u001b[38;5;124m\"\u001b[39m)\n\u001b[0;32m---> 72\u001b[0m \u001b[38;5;28;43mself\u001b[39;49m\u001b[38;5;241;43m.\u001b[39;49m\u001b[43m_init_environment\u001b[49m\u001b[43m(\u001b[49m\u001b[43m)\u001b[49m\n\u001b[1;32m     73\u001b[0m model \u001b[38;5;241m=\u001b[39m \u001b[38;5;28mself\u001b[39m\u001b[38;5;241m.\u001b[39m_compile_model(model)\n\u001b[1;32m     75\u001b[0m \u001b[38;5;28;01mwith\u001b[39;00m Timer(\u001b[38;5;124m\"\u001b[39m\u001b[38;5;124mbuilding task model\u001b[39m\u001b[38;5;124m\"\u001b[39m):\n",
      "File \u001b[0;32m~/.conda/envs/usa-net/lib/python3.10/site-packages/ml/trainers/vanilla.py:231\u001b[0m, in \u001b[0;36mVanillaTrainer._init_environment\u001b[0;34m(self)\u001b[0m\n\u001b[1;32m    229\u001b[0m \u001b[38;5;28;01mdef\u001b[39;00m \u001b[38;5;21m_init_environment\u001b[39m(\u001b[38;5;28mself\u001b[39m) \u001b[38;5;241m-\u001b[39m\u001b[38;5;241m>\u001b[39m \u001b[38;5;28;01mNone\u001b[39;00m:\n\u001b[1;32m    230\u001b[0m     \u001b[38;5;28;01mif\u001b[39;00m is_master():\n\u001b[0;32m--> 231\u001b[0m         \u001b[38;5;28;43mself\u001b[39;49m\u001b[38;5;241;43m.\u001b[39;49m\u001b[43madd_lock_file\u001b[49m\u001b[43m(\u001b[49m\u001b[38;5;124;43m\"\u001b[39;49m\u001b[38;5;124;43mrunning\u001b[39;49m\u001b[38;5;124;43m\"\u001b[39;49m\u001b[43m,\u001b[49m\u001b[43m \u001b[49m\u001b[43mexists_ok\u001b[49m\u001b[38;5;241;43m=\u001b[39;49m\u001b[38;5;28;43;01mTrue\u001b[39;49;00m\u001b[43m)\u001b[49m\n\u001b[1;32m    233\u001b[0m     \u001b[38;5;66;03m# Sets up environment.\u001b[39;00m\n\u001b[1;32m    234\u001b[0m     \u001b[38;5;28;01mif\u001b[39;00m \u001b[38;5;28mself\u001b[39m\u001b[38;5;241m.\u001b[39mconfig\u001b[38;5;241m.\u001b[39mdeterministic:\n",
      "File \u001b[0;32m~/.conda/envs/usa-net/lib/python3.10/site-packages/ml/trainers/base.py:296\u001b[0m, in \u001b[0;36mBaseTrainer.add_lock_file\u001b[0;34m(self, lock_type, exists_ok)\u001b[0m\n\u001b[1;32m    295\u001b[0m \u001b[38;5;28;01mdef\u001b[39;00m \u001b[38;5;21madd_lock_file\u001b[39m(\u001b[38;5;28mself\u001b[39m, lock_type: LockType, \u001b[38;5;241m*\u001b[39m, exists_ok: \u001b[38;5;28mbool\u001b[39m \u001b[38;5;241m=\u001b[39m \u001b[38;5;28;01mFalse\u001b[39;00m) \u001b[38;5;241m-\u001b[39m\u001b[38;5;241m>\u001b[39m \u001b[38;5;28;01mNone\u001b[39;00m:\n\u001b[0;32m--> 296\u001b[0m     \u001b[43madd_lock_file\u001b[49m\u001b[43m(\u001b[49m\u001b[38;5;28;43mself\u001b[39;49m\u001b[38;5;241;43m.\u001b[39;49m\u001b[43mexp_dir\u001b[49m\u001b[43m,\u001b[49m\u001b[43m \u001b[49m\u001b[43mlock_type\u001b[49m\u001b[38;5;241;43m=\u001b[39;49m\u001b[43mlock_type\u001b[49m\u001b[43m,\u001b[49m\u001b[43m \u001b[49m\u001b[43mexists_ok\u001b[49m\u001b[38;5;241;43m=\u001b[39;49m\u001b[43mexists_ok\u001b[49m\u001b[43m)\u001b[49m\n",
      "File \u001b[0;32m~/.conda/envs/usa-net/lib/python3.10/site-packages/ml/trainers/base.py:65\u001b[0m, in \u001b[0;36madd_lock_file\u001b[0;34m(exp_dir, lock_type, exists_ok)\u001b[0m\n\u001b[1;32m     63\u001b[0m         \u001b[38;5;28;01mraise\u001b[39;00m \u001b[38;5;167;01mRuntimeError\u001b[39;00m(\u001b[38;5;124mf\u001b[39m\u001b[38;5;124m\"\u001b[39m\u001b[38;5;124mLock file already exists at \u001b[39m\u001b[38;5;132;01m{\u001b[39;00mlock_file\u001b[38;5;132;01m}\u001b[39;00m\u001b[38;5;124m\"\u001b[39m)\n\u001b[1;32m     64\u001b[0m \u001b[38;5;28;01melse\u001b[39;00m:\n\u001b[0;32m---> 65\u001b[0m     \u001b[38;5;28;01mwith\u001b[39;00m \u001b[38;5;28;43mopen\u001b[39;49m\u001b[43m(\u001b[49m\u001b[43mlock_file\u001b[49m\u001b[43m,\u001b[49m\u001b[43m \u001b[49m\u001b[38;5;124;43m\"\u001b[39;49m\u001b[38;5;124;43mw\u001b[39;49m\u001b[38;5;124;43m\"\u001b[39;49m\u001b[43m,\u001b[49m\u001b[43m \u001b[49m\u001b[43mencoding\u001b[49m\u001b[38;5;241;43m=\u001b[39;49m\u001b[38;5;124;43m\"\u001b[39;49m\u001b[38;5;124;43mutf-8\u001b[39;49m\u001b[38;5;124;43m\"\u001b[39;49m\u001b[43m)\u001b[49m \u001b[38;5;28;01mas\u001b[39;00m f:\n\u001b[1;32m     66\u001b[0m         f\u001b[38;5;241m.\u001b[39mwrite(\u001b[38;5;124mf\u001b[39m\u001b[38;5;124m\"\u001b[39m\u001b[38;5;124mPID: \u001b[39m\u001b[38;5;132;01m{\u001b[39;00mos\u001b[38;5;241m.\u001b[39mgetpid()\u001b[38;5;132;01m}\u001b[39;00m\u001b[38;5;124m\"\u001b[39m)\n\u001b[1;32m     67\u001b[0m     logger\u001b[38;5;241m.\u001b[39mdebug(\u001b[38;5;124m\"\u001b[39m\u001b[38;5;124mAdded \u001b[39m\u001b[38;5;132;01m%s\u001b[39;00m\u001b[38;5;124m lock file to experiment directory \u001b[39m\u001b[38;5;132;01m%s\u001b[39;00m\u001b[38;5;124m\"\u001b[39m, lock_type, exp_dir)\n",
      "\u001b[0;31mFileNotFoundError\u001b[0m: [Errno 2] No such file or directory: '/private/home/bbolte/Github/usa-net/notebooks/runs/jupyter/run_0/.lock_running'"
     ]
    }
   ],
   "source": [
    "# Runs the training loop.\n",
    "trainer.train(model, task, optimizer, lr_scheduler)"
   ]
  }
 ],
 "metadata": {
  "kernelspec": {
   "display_name": "Python 3 (ipykernel)",
   "language": "python",
   "name": "python3"
  },
  "language_info": {
   "codemirror_mode": {
    "name": "ipython",
    "version": 3
   },
   "file_extension": ".py",
   "mimetype": "text/x-python",
   "name": "python",
   "nbconvert_exporter": "python",
   "pygments_lexer": "ipython3",
   "version": "3.10.10"
  }
 },
 "nbformat": 4,
 "nbformat_minor": 5
}
